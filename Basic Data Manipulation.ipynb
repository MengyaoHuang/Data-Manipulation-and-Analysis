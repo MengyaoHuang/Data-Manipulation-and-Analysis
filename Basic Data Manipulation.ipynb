{
 "cells": [
  {
   "cell_type": "markdown",
   "metadata": {
    "colab_type": "text",
    "id": "UGqk3SzXsMR3",
    "outputExpanded": false
   },
   "source": [
    "# SI 618 - Homework #1: Data Manipulation"
   ]
  },
  {
   "cell_type": "markdown",
   "metadata": {},
   "source": [
    "### IMPORTANT: Replace ```?``` in the following code with your uniqname."
   ]
  },
  {
   "cell_type": "code",
   "execution_count": 1,
   "metadata": {
    "collapsed": false
   },
   "outputs": [],
   "source": [
    "MY_UNIQNAME = 'huangmy'"
   ]
  },
  {
   "cell_type": "markdown",
   "metadata": {
    "outputExpanded": false
   },
   "source": [
    "## Background"
   ]
  },
  {
   "cell_type": "markdown",
   "metadata": {
    "outputExpanded": false
   },
   "source": [
    "This homework assignment focuses on the analysis of historical data from the Olympic games.  The description of the data includes the following:\n",
    "> This is a historical dataset on the modern Olympic Games, including all the Games from Athens 1896 to Rio 2016. I scraped this data from www.sports-reference.com in May 2018."
   ]
  },
  {
   "cell_type": "markdown",
   "metadata": {
    "outputExpanded": false
   },
   "source": [
    "Your main task in this assignment is to explore the data *using the data\n",
    "manipulation methods we covered in class* as well as those in the assigned readings.  You may need to consult pandas documentation, Stack Overflow, or other online resources.  \n",
    "\n",
    "** You should also feel free to ask questions on the class Slack channel!**"
   ]
  },
  {
   "cell_type": "markdown",
   "metadata": {
    "colab_type": "text",
    "id": "pbqbtPreaCjs",
    "outputExpanded": false
   },
   "source": [
    "A total of 100 points is available in this homework assignment, consisting of:\n",
    "- 80 points for completing the specific homework questions. More comprehensive \n",
    "answers will tend to gain more points.\n",
    "- 10 points for the overall quality of spelling, grammar, punctuation, and style of written responses.  (see https://faculty.washington.edu/heagerty/Courses/b572/public/StrunkWhite.pdf for a detailed specifications).\n",
    "- 10 points for creating code that conforms to [PEP 8](https://www.python.org/dev/peps/pep-0008/) guidelines.  You should review those guidelines before proceding with the assignment.\n"
   ]
  },
  {
   "cell_type": "markdown",
   "metadata": {
    "colab_type": "text",
    "id": "Pr9WBUQyZY4V",
    "outputExpanded": false
   },
   "source": [
    "## 0. Download the data from: \n",
    "- https://www.kaggle.com/heesoo37/120-years-of-olympic-history-athletes-and-results\n",
    "- https://en.wikipedia.org/wiki/List_of_Olympic_Games_host_cities (note: we suggest you use the [read_html](https://pandas.pydata.org/pandas-docs/stable/generated/pandas.read_html.html) function to load the data into a DataFrame."
   ]
  },
  {
   "cell_type": "markdown",
   "metadata": {
    "colab_type": "text",
    "id": "8EV1PilWtl0Z",
    "outputExpanded": false
   },
   "source": [
    "## 1. Answer the questions below. \n",
    "For each question, you should\n",
    "1. Write code using Python and pandas that can help you answer the following questions, and\n",
    "2. Explain your answers in plain English. You should use complete sentences that would be understood by an educated professional who is not necessarily a data scientist (like a product manager)."
   ]
  },
  {
   "cell_type": "markdown",
   "metadata": {},
   "source": [
    "* Read the data first"
   ]
  },
  {
   "cell_type": "code",
   "execution_count": 2,
   "metadata": {},
   "outputs": [],
   "source": [
    "import pandas as pd\n",
    "import html5lib\n",
    "from pandas import Series\n",
    "import numpy as np"
   ]
  },
  {
   "cell_type": "code",
   "execution_count": 3,
   "metadata": {},
   "outputs": [],
   "source": [
    "# Use pd.read_csv to import csv files\n",
    "athlete_events = pd.read_csv(\"data/homework1/athlete_events.csv\")\n",
    "noc = pd.read_csv(\"data/homework1/noc_regions.csv\")"
   ]
  },
  {
   "cell_type": "markdown",
   "metadata": {},
   "source": [
    "* Here I still use pd.read_csv to import the second source. I found that there are some merged cells on the website forms and it may be a little hard to deal with if I use read_html directly. Thus I re-opened them as csv files and cancelled the merging cells. Then I can use read_csv to operate, which should be able to avoid further mistakes caused by merged cells."
   ]
  },
  {
   "cell_type": "code",
   "execution_count": 4,
   "metadata": {},
   "outputs": [],
   "source": [
    "# if I use read_html, it should be like:\n",
    "# url = 'https://en.wikipedia.org/wiki/List_of_Olympic_Games_host_cities'\n",
    "# data = pd.read_html(url)\n",
    "# and use data = data[i] to get the i-th form on the website"
   ]
  },
  {
   "cell_type": "code",
   "execution_count": 5,
   "metadata": {},
   "outputs": [],
   "source": [
    "# read unsucessful cities \n",
    "unsuccess_cities = pd.read_csv(\"data/homework1/Unsuccessful cities.csv\")\n",
    "# delete strange '?' caused by reading files\n",
    "unsuccess_cities['Country'] = unsuccess_cities['Country'].map(lambda x: x.lstrip('?'))\n",
    "\n",
    "# Read Olympic games host cities\n",
    "host_cities = pd.read_csv(\"data/homework1/Olympic Games host cities.csv\")\n",
    "host_cities['Country'] = host_cities['Country'].map(lambda x: x.lstrip('?'))\n",
    "\n",
    "# Read List of countries ranked by times\n",
    "rank_country = pd.read_csv(\"data/homework1/List of countries ranked by times.csv\")\n",
    "rank_country['Country'] = rank_country['Country'].map(lambda x: x.lstrip('?'))\n",
    "\n",
    "# Read Number of Olympic Games by continent\n",
    "continent = pd.read_csv(\"data/homework1/Number of Olympic Games by continent.csv\")\n",
    "\n",
    "# Read List of cities hosted multiple\n",
    "multiple_cities = pd.read_csv(\"data/homework1/List of cities hosted multiple.csv\")\n",
    "multiple_cities['Country'] = multiple_cities['Country'].map(lambda x: x.lstrip('?'))"
   ]
  },
  {
   "cell_type": "markdown",
   "metadata": {
    "colab_type": "text",
    "id": "PfjXDtHoabcS",
    "outputExpanded": false
   },
   "source": [
    "### 5 pt: Describe the dataset. \n",
    "- How many number rows and columns do you see in each data frame? \n",
    "- Are there any other interesting descriptive details?"
   ]
  },
  {
   "cell_type": "code",
   "execution_count": 6,
   "metadata": {
    "colab": {},
    "colab_type": "code",
    "id": "ttHwVC8ot5Ur",
    "outputExpanded": false
   },
   "outputs": [
    {
     "name": "stdout",
     "output_type": "stream",
     "text": [
      "For the first data source--Two frames:\n",
      "The shape of 'athlete_events' is:  (271116, 15)\n",
      "The shape of 'noc_regions' is:  (230, 3)\n",
      "For the second data source--Five frames:\n",
      "The shape of 'Olympic Games Host Cities' is:  (71, 10)\n",
      "The shape of 'List of countries ranked by host times' is:  (27, 8)\n",
      "The shape of 'List of countries hosted multiple times' is:  (10, 8)\n",
      "The shape of 'Number of Olympic Games by continent' is:  (6, 7)\n",
      "The shape of 'Unsuccessful cities' is:  (18, 3)\n"
     ]
    }
   ],
   "source": [
    "# Use some describe command\n",
    "print(\"For the first data source--Two frames:\")\n",
    "print(\"The shape of 'athlete_events' is: \", athlete_events.shape)\n",
    "print(\"The shape of 'noc_regions' is: \", noc.shape)\n",
    "\n",
    "print(\"For the second data source--Five frames:\")\n",
    "print(\"The shape of 'Olympic Games Host Cities' is: \", host_cities.shape)\n",
    "print(\"The shape of 'List of countries ranked by host times' is: \", rank_country.shape)\n",
    "print(\"The shape of 'List of countries hosted multiple times' is: \", multiple_cities.shape)\n",
    "print(\"The shape of 'Number of Olympic Games by continent' is: \", continent.shape)\n",
    "print(\"The shape of 'Unsuccessful cities' is: \", unsuccess_cities.shape)"
   ]
  },
  {
   "cell_type": "code",
   "execution_count": 7,
   "metadata": {},
   "outputs": [
    {
     "name": "stdout",
     "output_type": "stream",
     "text": [
      "              Height         Weight\n",
      "count  210945.000000  208241.000000\n",
      "mean      175.338970      70.702393\n",
      "std        10.518462      14.348020\n",
      "min       127.000000      25.000000\n",
      "25%       168.000000      60.000000\n",
      "50%       175.000000      70.000000\n",
      "75%       183.000000      79.000000\n",
      "max       226.000000     214.000000\n",
      "        Season                    Event    City\n",
      "count   271116                   271116  271116\n",
      "unique       2                      765      42\n",
      "top     Summer  Football Men's Football  London\n",
      "freq    222552                     5733   22426\n",
      "Bronze    2279\n",
      "Gold      2183\n",
      "Silver    2146\n",
      "Name: Medal, dtype: int64\n",
      "Bronze    1873\n",
      "Silver    1831\n",
      "Gold      1826\n",
      "Name: Medal, dtype: int64\n",
      "AxesSubplot(0.125,0.11;0.775x0.77)\n",
      "Europe            33\n",
      "North America     13\n",
      "Asia               9\n",
      "South America      2\n",
      "Europe[h]          2\n",
      "Oceania            2\n",
      "Africa             1\n",
      "Southeast Asia     1\n",
      "Name: Continent, dtype: int64\n",
      "3\n"
     ]
    }
   ],
   "source": [
    "# Give some interesting descriptive details and explain\n",
    "# Based on athlete individuals\n",
    "print(athlete_events[['Height','Weight']].describe())\n",
    "print(athlete_events[['Season','Event', 'City']].describe())\n",
    "print(athlete_events[(athlete_events.Sex == 'M')&(athlete_events.Year>=2000)]['Medal'].value_counts())\n",
    "print(athlete_events[(athlete_events.Sex == 'F')&(athlete_events.Year>=2000)]['Medal'].value_counts())\n",
    "# Based on cities, coutries and continent data\n",
    "# number of cities\n",
    "host_cities_hold = host_cities[~host_cities['Opening Ceremony'].str.startswith('Cancelled')]\n",
    "print(host_cities_hold[(host_cities_hold['Year']<=2020)].Year.value_counts().plot.hist())\n",
    "print(host_cities_hold.Continent.value_counts())\n",
    "# find frequency of London\n",
    "print(len(host_cities_hold[host_cities_hold['City'].str.startswith('London')]))"
   ]
  },
  {
   "cell_type": "markdown",
   "metadata": {},
   "source": [
    "### Some interesting details\n",
    "#### Athletes information\n",
    "* According to the descriptive statistics of 'Height' and 'Weight', the respective mean values are 175.33 and 70.70. And corresponding std values are 10.51 and 14.34. This indicates that the volatility/variation of weight within these athletes is more obvious.\n",
    "* According to the descriptive statistics of 'Season', 'Event' and 'City', we find that there are more athletes in summer season. What's more, the most common event and city are Men's Football and London respectively.\n",
    "* According to the comparison of male and female athletes' performance after year 2000, we may also find some facts: 1) male athletes' total number of medals is higher. 2) Among male athletes' medals, Bronze medal has the higher percentage. 3) the percent of three kinds of medals is approximately the same in female athletes records.  "
   ]
  },
  {
   "cell_type": "markdown",
   "metadata": {},
   "source": [
    "#### Cities, Countries and Continents information\n",
    "* According to continents frequency output,it is obvious that the top three continents are Europe, North America and Asia. Among all the host cities, London should be one of the cities with high frequency. In fact, London has hosted Olympic Games for three times.\n",
    "* In most of years, the number of host cities would be larger than 1 thus we get the frequency of host cities each year. Here we only consider the records before year 2020. "
   ]
  },
  {
   "cell_type": "markdown",
   "metadata": {
    "colab_type": "text",
    "id": "tbmL9-kta0o4",
    "outputExpanded": false
   },
   "source": [
    "### 5 pt: What is the overall ratio of female to male atheletes? \n",
    "There are multiple ways one could determine the meaning of \"overall\" here, and there isn't necessarily one correct answer. Based on your interpretation, give a justification for the choices you made in your analysis."
   ]
  },
  {
   "cell_type": "code",
   "execution_count": 8,
   "metadata": {
    "colab": {},
    "colab_type": "code",
    "id": "33LcHThyt5_N",
    "outputExpanded": false
   },
   "outputs": [
    {
     "name": "stdout",
     "output_type": "stream",
     "text": [
      "number of male athletes: 196594\n",
      "number of femalle athletes: 74522\n",
      "ratio of female to male athletes: 0.37906548521318045\n"
     ]
    }
   ],
   "source": [
    "# base on the athletes events records\n",
    "male_athlete = athlete_events[athlete_events['Sex']=='M']\n",
    "female_athlete = athlete_events[athlete_events['Sex']=='F']\n",
    "print('number of male athletes:', len(male_athlete))\n",
    "print('number of femalle athletes:', len(female_athlete))\n",
    "print('ratio of female to male athletes:', len(female_athlete)/len(male_athlete))"
   ]
  },
  {
   "cell_type": "markdown",
   "metadata": {
    "colab_type": "text",
    "id": "FD6-7-D-uWmX",
    "outputExpanded": false
   },
   "source": [
    "Comment: Here we want to find the total number of male & female athletes'appearance from 1896-2016 and their ratio based on these two total numbers. The ratio is 38%, which indicates that the number of female athletes'appearance is 62% less than the one of male athletes'appearance. Here we do not delete some duplicated names."
   ]
  },
  {
   "cell_type": "markdown",
   "metadata": {
    "colab_type": "text",
    "id": "0u5VM5ksbCTm",
    "outputExpanded": false
   },
   "source": [
    "### 10 pt: Which athelete competed in most number of events? \n",
    "In which events did the athelete participate, and for what range of years? Which country did the athlete represent?"
   ]
  },
  {
   "cell_type": "code",
   "execution_count": 9,
   "metadata": {
    "colab": {},
    "colab_type": "code",
    "id": "JtI8ru2at6ZU",
    "outputExpanded": false
   },
   "outputs": [
    {
     "name": "stdout",
     "output_type": "stream",
     "text": [
      "Robert Tait McKenzie    58\n",
      "Name: Name, dtype: int64\n",
      "['Art Competitions Mixed Sculpturing'\n",
      " 'Art Competitions Mixed Sculpturing, Statues'\n",
      " 'Art Competitions Mixed Sculpturing, Medals And Reliefs'\n",
      " 'Art Competitions Mixed Sculpturing, Unknown Event'\n",
      " 'Art Competitions Mixed Sculpturing, Medals']\n",
      "His starting year: 1912\n",
      "The year range is: 36\n",
      "The country he represents: Canada\n"
     ]
    }
   ],
   "source": [
    "print(athlete_events['Name'].value_counts().head(1))\n",
    "\n",
    "# find his events\n",
    "Robert_record = athlete_events[athlete_events['Name'] == \"Robert Tait McKenzie\"]\n",
    "print(Robert_record['Event'].unique())\n",
    "\n",
    "# find years\n",
    "range_ath = Robert_record['Year'].max() - Robert_record['Year'].min()\n",
    "print('His starting year:', Robert_record['Year'].min())\n",
    "print('The year range is:', range_ath)\n",
    "print('The country he represents:', Robert_record['Team'].iloc[0])"
   ]
  },
  {
   "cell_type": "markdown",
   "metadata": {
    "colab_type": "text",
    "id": "CCuxztg3uYPQ",
    "outputExpanded": false
   },
   "source": [
    "Comment: The athlete named Robert Tait Mckenzie competed in most number of events and he participated in 58 events in total. He started in year 1912 and continued for 36 years. He represents the team Canada and his event is Art Competitions Mixed Sculpturing. Also, some subclasses of this event have been printed above. "
   ]
  },
  {
   "cell_type": "markdown",
   "metadata": {
    "colab_type": "text",
    "id": "2wH5ikUcbb16",
    "outputExpanded": false
   },
   "source": [
    "### 10 pt: Which sport has the highest median athlete age? \n",
    "To determine this, you might want to plot the median age for each sport. You may want to sort the axes appropriately for your analysis."
   ]
  },
  {
   "cell_type": "code",
   "execution_count": 10,
   "metadata": {
    "colab": {},
    "colab_type": "code",
    "id": "GneWWgFVt62N",
    "outputExpanded": false
   },
   "outputs": [
    {
     "name": "stdout",
     "output_type": "stream",
     "text": [
      "    Sport   Age\n",
      "42  Roque  59.0\n"
     ]
    },
    {
     "data": {
      "text/plain": [
       "Text(0,0.5,'Median Age')"
      ]
     },
     "execution_count": 10,
     "metadata": {},
     "output_type": "execute_result"
    },
    {
     "data": {
      "image/png": "[encoded data removed]",
      "text/plain": [
       "<Figure size 432x288 with 1 Axes>"
      ]
     },
     "metadata": {},
     "output_type": "display_data"
    }
   ],
   "source": [
    "sport_age = athlete_events.groupby('Sport').Age.median()\n",
    "# reset_index operation can turn Series into dataframe\n",
    "sport_age = sport_age.reset_index()\n",
    "\n",
    "# get the maximum age and its event directly\n",
    "print(sport_age[sport_age['Age'] == sport_age['Age'].max()])\n",
    "# we may also draw a plot based on the new index\n",
    "ax = sport_age['Age'].plot(title='Median Age plot')\n",
    "ax.set_xlabel('New Index')\n",
    "ax.set_ylabel('Median Age')0"
   ]
  },
  {
   "cell_type": "markdown",
   "metadata": {
    "colab_type": "text",
    "id": "WlWYu2_5uY7K",
    "outputExpanded": false
   },
   "source": [
    "Comment: According to the output, the sport 'Roque' has the highest median age, which is 59. After the groupby result, we can get the answer directly. Else we set the result to be a new dataframe and set new index. Here I made a new plot based on the new index, which also shows that the highest median age appears in the line with index '42'. "
   ]
  },
  {
   "cell_type": "markdown",
   "metadata": {
    "colab_type": "text",
    "id": "wGoiQk8XbqHw",
    "outputExpanded": false
   },
   "source": [
    "### 10 pt: In which events has Jamaica won the most medals?"
   ]
  },
  {
   "cell_type": "code",
   "execution_count": 11,
   "metadata": {
    "colab": {},
    "colab_type": "code",
    "id": "U5jIdE3_t7YA",
    "outputExpanded": false
   },
   "outputs": [
    {
     "name": "stdout",
     "output_type": "stream",
     "text": [
      "                                     Event  frequency\n",
      "0               Athletics Men's 100 metres          8\n",
      "1       Athletics Men's 110 metres Hurdles          2\n",
      "2               Athletics Men's 200 metres          7\n",
      "3     Athletics Men's 4 x 100 metres Relay         16\n",
      "4     Athletics Men's 4 x 400 metres Relay         27\n",
      "5               Athletics Men's 400 metres          5\n",
      "6       Athletics Men's 400 metres Hurdles          2\n",
      "7               Athletics Men's 800 metres          2\n",
      "8                Athletics Men's Long Jump          1\n",
      "9             Athletics Women's 100 metres         13\n",
      "10            Athletics Women's 200 metres         12\n",
      "11  Athletics Women's 4 x 100 metres Relay         28\n",
      "12  Athletics Women's 4 x 400 metres Relay         27\n",
      "13            Athletics Women's 400 metres          3\n",
      "14    Athletics Women's 400 metres Hurdles          3\n",
      "15   Cycling Men's 1,000 metres Time Trial          1\n",
      "The most medals record:\n",
      "                                     Event  frequency\n",
      "11  Athletics Women's 4 x 100 metres Relay         28\n"
     ]
    }
   ],
   "source": [
    "# filter medal records of Jamaica\n",
    "medal_J = athlete_events[(athlete_events['NOC'] == 'JAM') & (~athlete_events['Medal'].isnull())]\n",
    "Event_medal = medal_J.groupby('Event').size().reset_index(name='frequency')\n",
    "print(Event_medal)\n",
    "print('The most medals record:')\n",
    "print(Event_medal[Event_medal['frequency'] == Event_medal['frequency'].max()])"
   ]
  },
  {
   "cell_type": "markdown",
   "metadata": {
    "colab_type": "text",
    "id": "yN5zlizIuZa8",
    "outputExpanded": false
   },
   "source": [
    "Comment: According to the output, Jamaica has won the most medals in Athletics Women's 4 x 100 metres Relay."
   ]
  },
  {
   "cell_type": "markdown",
   "metadata": {
    "colab_type": "text",
    "id": "lwumWcqTcMCs",
    "outputExpanded": false
   },
   "source": [
    "### 10 pt: Which countries have more female medalists than male medalists?"
   ]
  },
  {
   "cell_type": "code",
   "execution_count": 12,
   "metadata": {
    "colab": {},
    "colab_type": "code",
    "id": "OMnjkk4St77B",
    "outputExpanded": false
   },
   "outputs": [
    {
     "name": "stdout",
     "output_type": "stream",
     "text": [
      "['BLR', 'BRN', 'CHN', 'CRC', 'JAM', 'KOS', 'LIE', 'MNE', 'MOZ', 'PER', 'PRK', 'ROU', 'SGP', 'UKR', 'ZIM']\n",
      "['Belarus', 'Bahrain', 'China', 'Costa Rica', 'Jamaica', 'Kosovo', 'Liechtenstein', 'Montenegro', 'Mozambique', 'Peru', 'North Korea', 'Romania', 'Ukraine', 'Zimbabwe', 'Singapore']\n"
     ]
    }
   ],
   "source": [
    "# filter all medalists first\n",
    "medal_athlete = athlete_events[~athlete_events['Medal'].isnull()]\n",
    "# groupby two columns--NOC and Sex\n",
    "medal_coun = medal_athlete.groupby(['NOC', 'Sex']).size().reset_index(name='number')\n",
    "\n",
    "# get NOC female list\n",
    "female_noc = medal_coun[medal_coun.Sex == 'F'].NOC.unique()\n",
    "\n",
    "# compare and give output\n",
    "result = []\n",
    "for name in female_noc:\n",
    "    # only female athletes\n",
    "    if medal_coun[medal_coun.NOC == name].shape[0] == 1:\n",
    "        result.append(name)\n",
    "    # compare male and female athletes numbers\n",
    "    elif int(medal_coun[(medal_coun.NOC == name) & (medal_coun.Sex == 'F')].number) > int(medal_coun[(medal_coun.NOC == name) & (medal_coun.Sex == 'M')].number):\n",
    "        result.append(name)\n",
    "print(result)\n",
    "\n",
    "# find NOC countries in noc frame\n",
    "country_list = noc[noc['NOC'].isin(result)].region.tolist()\n",
    "country_list.append('Singapore')\n",
    "print(country_list)"
   ]
  },
  {
   "cell_type": "markdown",
   "metadata": {
    "colab_type": "text",
    "id": "nau57Y2ZuZ6Y",
    "outputExpanded": false
   },
   "source": [
    "Comment: First we filter all the medalists and groupby NOC and Sex to get the new dataframe. Then for those countries who only have female athletes, they are added directly to the final result. For the other countries, we compare and decide to add or not. Finally, we can tell the countries according to the NOC table. Since the NOC of 'Singapore' is different in these two tables, we add 'Singapore' manually."
   ]
  },
  {
   "cell_type": "markdown",
   "metadata": {
    "colab_type": "text",
    "id": "7n5ybXFQcR-g",
    "outputExpanded": false
   },
   "source": [
    "### 10 pt: Which country won the most medal points in each of the 2014 Winter Olympics?\n",
    "Rank each country by a score, where 3 points are assigned for a gold medal, 2 points for silver, and 1 point for bronze."
   ]
  },
  {
   "cell_type": "code",
   "execution_count": 13,
   "metadata": {
    "colab": {},
    "colab_type": "code",
    "id": "FoWTh2ekt8Wp",
    "outputExpanded": false
   },
   "outputs": [
    {
     "name": "stdout",
     "output_type": "stream",
     "text": [
      "     number  weight  score\n",
      "NOC                       \n",
      "AUS       3       3      5\n",
      "AUT      27       6     47\n",
      "BLR       6       4     16\n",
      "CAN      86       6    226\n",
      "CHN      12       6     22\n",
      "Filter the country with the highest score:\n",
      "     number  weight  score\n",
      "NOC                       \n",
      "CAN      86       6    226\n"
     ]
    }
   ],
   "source": [
    "# filter 2014, winter and medal first\n",
    "filtered = athlete_events[(athlete_events.Year == 2014) & (athlete_events.Season == 'Winter') & (~athlete_events['Medal'].isnull())]\n",
    "# groupby NOC and Medal\n",
    "filtered = filtered.groupby(['NOC', 'Medal']).size().reset_index(name='number')\n",
    "\n",
    "# calculate the score\n",
    "# add the weight\n",
    "filtered['weight'] = filtered.Medal.apply(lambda x: 1 if x=='Bronze' else 2 if x=='Silver' else 3)\n",
    "# add the score\n",
    "filtered['score'] = filtered['number'] * filtered['weight']\n",
    "\n",
    "# groupby NOC and get the sum of score\n",
    "score_sum = filtered.groupby('NOC').sum()\n",
    "\n",
    "print(score_sum.head())\n",
    "print('Filter the country with the highest score:')\n",
    "print(score_sum[score_sum['score'] == score_sum['score'].max()])"
   ]
  },
  {
   "cell_type": "markdown",
   "metadata": {
    "colab_type": "text",
    "id": "lGrRhr22uan4",
    "outputExpanded": false
   },
   "source": [
    "Comment: we first filter the data according to the year, season and medal. Then we add a new column called 'weight' according to the type of medal and calculate corresponding scores. The result shows that Canada has the highest medal points and the total score is 226."
   ]
  },
  {
   "cell_type": "markdown",
   "metadata": {
    "colab_type": "text",
    "id": "l8k4nqgfeFJb",
    "outputExpanded": false
   },
   "source": [
    "### 20 pt: For each year in which games were held, what proportion of gold medals did the host country win? \n",
    "You will need to combine multiple datasets to complete the analysis.  "
   ]
  },
  {
   "cell_type": "code",
   "execution_count": 48,
   "metadata": {},
   "outputs": [
    {
     "name": "stdout",
     "output_type": "stream",
     "text": [
      "           Country  Year      Time    Type  Total  Medal Proportion\n",
      "0           Greece  1896   6-April  Summer     62     10     16.13%\n",
      "1           France  1900    14-May  Summer    201     52     25.87%\n",
      "2    United States  1904     1-Jul  Summer    173    128     73.99%\n",
      "3   United Kingdom  1908  27-April  Summer    294    147     50.00%\n",
      "4           Sweden  1912     5-May  Summer    326    103     31.60%\n",
      "5          Belgium  1920  20-April  Summer    493     57     11.56%\n",
      "6           France  1924    25-Jan  Winter     55      0      0.00%\n",
      "7           France  1924     4-May  Summer    277     37     13.36%\n",
      "8      Switzerland  1928    11-Feb  Winter     30      0      0.00%\n",
      "9      Netherlands  1928    17-May  Summer    245     20      8.16%\n",
      "10   United States  1932     4-Feb  Winter     32     10     31.25%\n",
      "11   United States  1932    30-Jul  Summer    229     81     35.37%\n",
      "12    Nazi Germany  1936     6-Feb  Winter     36      4     11.11%\n",
      "13    Nazi Germany  1936     1-Aug  Summer    312     93     29.81%\n",
      "14     Switzerland  1948    30-Jan  Winter     41      4      9.76%\n",
      "15  United Kingdom  1948    29-Jul  Summer    289      7      2.42%\n",
      "16          Norway  1952    14-Feb  Winter     45      7     15.56%\n",
      "17         Finland  1952    19-Jul  Summer    306      8      2.61%\n",
      "18           Italy  1956    26-Jan  Winter     51      2      3.92%\n",
      "19       Australia  1956    22-Nov  Summer    302     28      9.27%\n",
      "20          Sweden  1956    10-Jun  Summer    302     14      4.64%\n",
      "21   United States  1960    18-Feb  Winter     50     19     38.00%\n",
      "22           Italy  1960    25-Aug  Summer    309     36     11.65%\n",
      "23         Austria  1964    29-Jan  Winter     61      5      8.20%\n",
      "24           Japan  1964    10-Oct  Summer    347     32      9.22%\n",
      "25          France  1968     6-Feb  Winter     66      4      6.06%\n",
      "26          Mexico  1968    12-Oct  Summer    359      3      0.84%\n",
      "27           Japan  1972     3-Feb  Winter     70      1      1.43%\n",
      "28    West Germany  1972    26-Aug  Summer    404     44     10.89%\n",
      "29         Austria  1976     4-Feb  Winter     70      2      2.86%\n",
      "30          Canada  1976    17-Jul  Summer    438      0      0.00%\n",
      "31   United States  1980    13-Feb  Winter     72     24     33.33%\n",
      "32    Soviet Union  1980    19-Jul  Summer    457    187     40.92%\n",
      "33      Yugoslavia  1984     7-Feb  Winter     74      0      0.00%\n",
      "34   United States  1984    28-Jul  Summer    497    186     37.42%\n",
      "35          Canada  1988    13-Feb  Winter     87      0      0.00%\n",
      "36     South Korea  1988    17-Sep  Summer    520     28      5.38%\n",
      "37          France  1992     8-Feb  Winter    104      5      4.81%\n",
      "38           Spain  1992    25-Jul  Summer    559     48      8.59%\n",
      "39          Norway  1994    12-Feb  Winter    110      8      7.27%\n",
      "40   United States  1996    19-Jul  Summer    608    159     26.15%\n",
      "41           Japan  1998     7-Feb  Winter    145      8      5.52%\n",
      "42       Australia  2000    15-Sep  Summer    663     60      9.05%\n",
      "43   United States  2002     8-Feb  Winter    162     11      6.79%\n",
      "44          Greece  2004    13-Aug  Summer    664      8      1.20%\n",
      "45           Italy  2006    10-Feb  Winter    176     11      6.25%\n",
      "46           China  2008     8-Aug  Summer    671     74     11.03%\n",
      "47          Canada  2010    12-Feb  Winter    174     67     38.51%\n",
      "48       Singapore  2010    14-Aug  Summer      0      0        NaN\n",
      "49         Austria  2012    13-Jan  Winter      0      0        NaN\n",
      "50  United Kingdom  2012    27-Jul  Summer    632     48      7.59%\n",
      "51          Russia  2014     7-Feb  Winter    202      0      0.00%\n",
      "52           China  2014    16-Aug  Summer      0      0        NaN\n",
      "53          Norway  2016    12-Feb  Winter      0      0        NaN\n",
      "54          Brazil  2016     5-Aug  Summer    665     36      5.41%\n"
     ]
    }
   ],
   "source": [
    "# filter the year according to the athlete events time\n",
    "host_countries = host_cities_hold[['Country', 'Year', 'Opening Ceremony']]\n",
    "host_countries.columns = ['Country', 'Year','Time']\n",
    "host_countries = host_countries[host_countries['Year']<=2016]\n",
    "# add label for type\n",
    "host_countries['Type'] = host_countries.Time.apply(lambda x: 'Winter' if 'Jan' in x or 'Feb' in x else 'Summer')\n",
    "host_countries.reset_index(drop=True, inplace=True)\n",
    "\n",
    "\n",
    "# find the total number of gold medal for each game\n",
    "# count the number given year and game type\n",
    "def total_gold_count(year, game_type):\n",
    "    count = len(athlete_events[(athlete_events.Medal == 'Gold') & \n",
    "                               (athlete_events.Year == year) & (athlete_events.Season == game_type)])\n",
    "    return count\n",
    "    \n",
    "# there is missing data for some years thus we only concentrate on those available records\n",
    "# dict--turn the country into corresponding NOC name based on noc_regions set\n",
    "noc_temp = noc[noc['notes'].isnull()]\n",
    "name_dict = Series(noc_temp.NOC.values,index=noc_temp.region).to_dict()\n",
    "# add some additional values for alias\n",
    "name_dict['United States'] = 'USA'\n",
    "name_dict['United Kingdom'] = 'GBR'\n",
    "name_dict['Soviet Union'] = 'URS'\n",
    "name_dict['Yugoslavia'] = 'YUG'\n",
    "name_dict['Nazi Germany'] = 'GER'\n",
    "name_dict['West Germany'] = 'FRG'\n",
    "\n",
    "\n",
    "def indi_gold_count(country, year, game_type):\n",
    "    # count the country's gold medals\n",
    "    count = len(athlete_events[(athlete_events.Medal == 'Gold') & \n",
    "                               (athlete_events.Year == year) & (athlete_events.Season == game_type) & \n",
    "                               (athlete_events.NOC == name_dict[country])])\n",
    "    return count\n",
    "\n",
    "# set new columns to record the total number of gold medals in that game, host countries' medals and proportion\n",
    "host_countries['Total'] = 0\n",
    "host_countries['Medal'] = 0\n",
    "host_countries['Proportion'] = 0\n",
    "for i in range(len(host_countries)):\n",
    "    host_countries.loc[i, 'Total'] = total_gold_count(host_countries.loc[i].Year, host_countries.loc[i].Type)\n",
    "    if host_countries.loc[i, 'Total'] != 0:\n",
    "        if host_countries.loc[i].Country in name_dict:\n",
    "            host_countries.loc[i, 'Medal'] = indi_gold_count(host_countries.loc[i].Country, \n",
    "                                                             host_countries.loc[i].Year, \n",
    "                                                             host_countries.loc[i].Type)\n",
    "        else:\n",
    "            host_countries.loc[i, 'Medal'] = np.nan\n",
    "        host_countries.loc[i, 'Proportion'] = host_countries.loc[i, 'Medal']/host_countries.loc[i, 'Total']\n",
    "        # turn to percent format\n",
    "        host_countries.loc[i, 'Proportion'] = '%.2f%%' % (host_countries.loc[i, 'Proportion'] * 100)\n",
    "    else: # total number absent\n",
    "        host_countries.loc[i, 'Proportion'] = np.nan\n",
    "        \n",
    "print(host_countries)\n",
    "\n"
   ]
  },
  {
   "cell_type": "markdown",
   "metadata": {
    "colab_type": "text",
    "id": "R9dYAutxubGJ",
    "outputExpanded": false
   },
   "source": [
    "Comment: \n",
    "* All the proportion values have been given in the last column of output above.\n",
    "* Here we first set up a new dataframe based on the Host year, Host country and its opening ceremony. And we add a new column to label Summer and Winter. Then we set up the dictionary for the country name and its NOC, which would be used to combine two sets' information. \n",
    "* And then we define two functions which are used to count the total number of gold medals in each game and the number of gold medals that host countries won. \n",
    "* Based on these information, we can calculate the corresponding proportion values. \n",
    "* What's more, there is some missing information in 2010, 2012, 2014 and 2016 thus we simply leave the proportion as NAN values. "
   ]
  },
  {
   "cell_type": "markdown",
   "metadata": {
    "outputExpanded": false
   },
   "source": [
    "## Please submit your completed notebook in .IPYNB and .HTML formats via Canvas"
   ]
  },
  {
   "cell_type": "code",
   "execution_count": null,
   "metadata": {},
   "outputs": [],
   "source": []
  }
 ],
 "metadata": {
  "colab": {
   "collapsed_sections": [],
   "name": "618_HW1.ipynb",
   "provenance": [],
   "version": "0.3.2"
  },
  "kernel_info": {
   "name": "python3"
  },
  "kernelspec": {
   "display_name": "Python 3",
   "language": "python",
   "name": "python3"
  },
  "language_info": {
   "codemirror_mode": {
    "name": "ipython",
    "version": 3
   },
   "file_extension": ".py",
   "mimetype": "text/x-python",
   "name": "python",
   "nbconvert_exporter": "python",
   "pygments_lexer": "ipython3",
   "version": "3.6.5"
  }
 },
 "nbformat": 4,
 "nbformat_minor": 2
}
